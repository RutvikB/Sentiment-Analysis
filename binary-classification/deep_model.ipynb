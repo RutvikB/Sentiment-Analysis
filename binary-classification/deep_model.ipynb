{
  "cells": [
    {
      "cell_type": "markdown",
      "metadata": {
        "id": "2QSfARu3uyn7"
      },
      "source": [
        "Code Inspired from [Tensorflow Tutorials](https://www.tensorflow.org/tutorials/keras/text_classification)"
      ]
    },
    {
      "cell_type": "markdown",
      "metadata": {
        "id": "9oIsdHEVuyn9"
      },
      "source": [
        "# Text Classification"
      ]
    },
    {
      "cell_type": "markdown",
      "metadata": {
        "id": "_bYSpHnyuyn-"
      },
      "source": [
        "\n",
        "We train a Bidirectional LSTM (Deep Neural Network) classifier to perform Binary Sentiment analysis on an IMDB dataset to classify movie reviews as positive (1) or negative (0), based on the text of the review."
      ]
    },
    {
      "cell_type": "code",
      "execution_count": 1,
      "metadata": {
        "colab": {
          "base_uri": "https://localhost:8080/"
        },
        "id": "hsmwkY39uyn-",
        "outputId": "4120f185-bc0d-4235-fcb7-d3d25e4bea19"
      },
      "outputs": [
        {
          "name": "stdout",
          "output_type": "stream",
          "text": [
            "2.15.0\n"
          ]
        }
      ],
      "source": [
        "import matplotlib.pyplot as plt\n",
        "import os\n",
        "import re\n",
        "import shutil\n",
        "import string\n",
        "import tensorflow as tf\n",
        "\n",
        "from tensorflow.keras import layers, losses\n",
        "print(tf.__version__)"
      ]
    },
    {
      "cell_type": "markdown",
      "metadata": {
        "id": "hk6qOzQruyn_"
      },
      "source": [
        "#### Download Dataset from URL"
      ]
    },
    {
      "cell_type": "code",
      "execution_count": 2,
      "metadata": {
        "colab": {
          "base_uri": "https://localhost:8080/"
        },
        "id": "XlPKMN2quyn_",
        "outputId": "ebc956d9-850c-45ae-a1fa-c24d4407b7e0"
      },
      "outputs": [
        {
          "name": "stdout",
          "output_type": "stream",
          "text": [
            "Downloading data from https://ai.stanford.edu/~amaas/data/sentiment/aclImdb_v1.tar.gz\n",
            "84125825/84125825 [==============================] - 4s 0us/step\n"
          ]
        }
      ],
      "source": [
        "url = \"https://ai.stanford.edu/~amaas/data/sentiment/aclImdb_v1.tar.gz\"\n",
        "\n",
        "dataset = tf.keras.utils.get_file(\"aclImdb_v1\", url,\n",
        "                                    untar=True, cache_dir='.',\n",
        "                                    cache_subdir='')\n",
        "\n",
        "dataset_dir = os.path.join(os.path.dirname(dataset), 'aclImdb')\n",
        "train_dir = os.path.join(dataset_dir, 'train')\n",
        "test_dir = os.path.join(dataset_dir, 'test')\n"
      ]
    },
    {
      "cell_type": "code",
      "execution_count": 3,
      "metadata": {
        "colab": {
          "base_uri": "https://localhost:8080/"
        },
        "id": "smUyZ0NMuyoA",
        "outputId": "a6b70516-d345-495d-e4cb-f4cf0e3a32f9"
      },
      "outputs": [
        {
          "name": "stdout",
          "output_type": "stream",
          "text": [
            "Rachel Griffiths writes and directs this award winning short film. A heartwarming story about coping with grief and cherishing the memory of those we've loved and lost. Although, only 15 minutes long, Griffiths manages to capture so much emotion and truth onto film in the short space of time. Bud Tingwell gives a touching performance as Will, a widower struggling to cope with his wife's death. Will is confronted by the harsh reality of loneliness and helplessness as he proceeds to take care of Ruth's pet cow, Tulip. The film displays the grief and responsibility one feels for those they have loved and lost. Good cinematography, great direction, and superbly acted. It will bring tears to all those who have lost a loved one, and survived.\n"
          ]
        }
      ],
      "source": [
        "# Print an example text file\n",
        "sample_file = os.path.join(train_dir, 'pos/1181_9.txt')\n",
        "with open(sample_file) as f:\n",
        "  print(f.read())"
      ]
    },
    {
      "cell_type": "markdown",
      "metadata": {
        "id": "PSAwFereuyoA"
      },
      "source": [
        "#### Prepare the Dataset"
      ]
    },
    {
      "cell_type": "code",
      "execution_count": 4,
      "metadata": {
        "id": "8gE9CujCuyoA"
      },
      "outputs": [],
      "source": [
        "# CONFIG_FILE\n",
        "BATCH_SIZE = 64\n",
        "SEED = 0\n",
        "MAX_FEATURES = 10000\n",
        "SEQUENCE_LENGTH = 400\n",
        "EMBEDDING_DIMENSION = 128\n",
        "EPOCH = 100"
      ]
    },
    {
      "cell_type": "code",
      "execution_count": 5,
      "metadata": {
        "id": "4OdIsVeEMtHi"
      },
      "outputs": [],
      "source": [
        "# Remove unwanted directory from downloaded files\n",
        "remove_dir = os.path.join(train_dir, 'unsup')\n",
        "shutil.rmtree(remove_dir)\n"
      ]
    },
    {
      "cell_type": "code",
      "execution_count": 6,
      "metadata": {
        "colab": {
          "base_uri": "https://localhost:8080/"
        },
        "id": "75f2Tj_HuyoB",
        "outputId": "e829c6ae-a08e-4e17-f667-6a8cff0d5ce7"
      },
      "outputs": [
        {
          "name": "stdout",
          "output_type": "stream",
          "text": [
            "Found 25000 files belonging to 2 classes.\n",
            "Using 20000 files for training.\n"
          ]
        }
      ],
      "source": [
        "# Train Data\n",
        "raw_train_ds = tf.keras.utils.text_dataset_from_directory(\n",
        "    'aclImdb/train',\n",
        "    batch_size=BATCH_SIZE,\n",
        "    validation_split=0.2,\n",
        "    subset='training',\n",
        "    seed=SEED)"
      ]
    },
    {
      "cell_type": "code",
      "execution_count": 7,
      "metadata": {
        "colab": {
          "base_uri": "https://localhost:8080/"
        },
        "id": "NWj-BL5XuyoB",
        "outputId": "e7b0ef05-464c-49c8-d044-36b67186000e"
      },
      "outputs": [
        {
          "name": "stdout",
          "output_type": "stream",
          "text": [
            "Example Review Text: \n",
            " b\"Violence whether real or not always has an impact. In this film the violence is about as crass as you could ask for. In the Great Ecstacy the director has successfully demonstrated what extremes of violence people are capable of. But what was the point? The violence looks like a mix of No\\xc3\\xab's 'Irreversible, and ' Kubrick's 'Clockwork Orange'...both of which are remarkable films. Don't get me wrong, I'm not opposed to screen violence at all and I've seen some nasty stuff in my film-going years, but this film as a whole is totally juvenile. The story is never developed enough to offer any reason for the extreme violence, the rizla paper thin reason we are give for Robert's demise is his introduction to drugs. Danny Dyer plays the character who is partly responsible for Robert's drug fuelled demise, however he is on screen for less than 5 minutes. Lesley Manville is Robert's unable to cope mum, I am not sure what either of these actors is doing in a film of this low caliber. The acting is wooden, the scene in the kitchen with the TV-cook and his wife for instance is as painful to watch if not more so than the shocking finale- who wrote those dialogues?! Some of the comments the boys make...'looks like she's enjoying it' are so trite as to tempt one to laugh if it were not for Clay's ardent desire to bombard us with harrowing images of mutilated female genitals. Why we need to be shown such detail possibly down to the director's adolescent obsession with sadistic pornographic imagery...one can only wonder at this young man's psychology.<br /><br />The 'political meaning' of the film was repeatedly brought to our attention due to the amount of scenes; in the bar, outside the TV-cook's house, war in Iraq reports, was perhaps too obvious in my opinion. Yes, war is violent, social determinism causes frustration, we're all prone to horrifingly violent acts whether you're in politics or on the street popping E. Juxtaposing all these things as part of the same underlying issue is evading the actual issue which is the meaning of violence in man. This issue is one that we still haven't managed to grasp and certainly not in this film.<br /><br />My opinion: derivative, badly-made and pointless.\"\n",
            "Example Label Text: \n",
            " 0\n",
            "Example Review Text: \n",
            " b\"I definitely recommend reading the book prior to watching the film. This book won National Book Council Award in 1978 and is a very gripping read (pun not intended). It's not too difficult to read for those out there that don't read often so don't be afraid! The book seems to capture the passion of the relationships more so than the movie and the movie will make more sense after reading the book. Having grown up in Melbourne I could really relate to this book and movie. Very few Australian female writers were around the in the 70's therefore very little is documented about the way of life for a women in an urban city in Australia during this era or class. It's a precious piece of Melbourne history. It's a shame that it is documented as some sort of 80's soft porn movie. It's far from that and as the other reviewer has mentioned please do not read the DVD jacket, it does not represent what the movie is about at all. Those that rent the movie based on this description will only be disappointed. Just remember this movie was made in 1982, so don't expect the Hollywood over dramatization that they seem to incorporate these days. This is what I like about it. It's also great seeing Noni Hazlehurst in this role, she is just fantastic as Nora and it's great watching her really acting, for if you're close to my age you will best remember her for her stints on Playschool and Better Homes and Gardens. Who knew she hid this talent? This movie will give you an entirely new impression of her. A classic Australian Story!\"\n",
            "Example Label Text: \n",
            " 1\n",
            "Example Review Text: \n",
            " b\"This movie gets both a 6/10 rating from me, as well as a 9/10. Here is why: As a standard horror movie for the standard horror crowd, where action and gore and scares are taken into consideration, this movie WILL bore you. It's basically a family drama similar to what you'd see on the Lifetime channel, but put in a horror universe. The story and formula are age-old, retreaded hundreds of times. If you're looking for any originality in the plot structure or the minimal conflicts, you'll be disappointed. Take away the zombies and you'll have something just as melodramatic as A Beautiful Mind, tripping on cheese. This is the 6/10.<br /><br />However, the basic synopsis and idea is pretty original and over-the-top. It's literally something you and your friends would joke about when you're half-drunk . . . but that joke actually got a theatrical release. The idea gets a 9/10 from me. The only reason it isn't perfect is because they could have taken it even further, but they didn't.<br /><br />The mix of both is mixed. I thought it was funny, but as with most all comedies, it wasn't THAT funny. I had my mom and little sister watch it with me and the jokes we made about it were funnier than the jokes scripted. There were moments of utter genius, but there were also moments of pure boredom.<br /><br />I sincerely hope that other movies take this kind of over-the-top risk and original ideas. I just can't say it was perfect, or even near it, because of the lack of originality to the plot.<br /><br />A GREAT family movie. A great movie to watch with a bunch of guys (or girls). A great movie to watch with anyone . . . but if you watch it alone, it will be a bit boring. Other people always make this kind of movie funnier and richer.<br /><br />4/10\"\n",
            "Example Label Text: \n",
            " 0\n",
            "Label 0 corresponds to neg\n",
            "Label 1 corresponds to pos\n"
          ]
        }
      ],
      "source": [
        "# Print an example Text and its corresponding label\n",
        "for text_batch, label_batch in raw_train_ds.take(1):\n",
        "  for i in range(3):\n",
        "    print(\"Example Review Text: \\n\", text_batch.numpy()[i])\n",
        "    print(\"Example Label Text: \\n\", label_batch.numpy()[i])\n",
        "\n",
        "# Print Label Values\n",
        "print(\"Label 0 corresponds to\", raw_train_ds.class_names[0])\n",
        "print(\"Label 1 corresponds to\", raw_train_ds.class_names[1])"
      ]
    },
    {
      "cell_type": "code",
      "execution_count": 8,
      "metadata": {
        "colab": {
          "base_uri": "https://localhost:8080/"
        },
        "id": "i9GhqFEYuyoB",
        "outputId": "fdda8152-79a1-43b3-ae84-8e44e5bad818"
      },
      "outputs": [
        {
          "name": "stdout",
          "output_type": "stream",
          "text": [
            "Found 25000 files belonging to 2 classes.\n",
            "Using 5000 files for validation.\n"
          ]
        }
      ],
      "source": [
        "# Validation Data\n",
        "raw_val_ds = tf.keras.utils.text_dataset_from_directory(\n",
        "    'aclImdb/train',\n",
        "    batch_size=BATCH_SIZE,\n",
        "    validation_split=0.2,\n",
        "    subset='validation',\n",
        "    seed=SEED)"
      ]
    },
    {
      "cell_type": "code",
      "execution_count": 9,
      "metadata": {
        "colab": {
          "base_uri": "https://localhost:8080/"
        },
        "id": "f2oOeVj_uyoB",
        "outputId": "024fe249-6313-49d9-ef00-271020df0afa"
      },
      "outputs": [
        {
          "name": "stdout",
          "output_type": "stream",
          "text": [
            "Found 25000 files belonging to 2 classes.\n"
          ]
        }
      ],
      "source": [
        "# Test Data\n",
        "raw_test_ds = tf.keras.utils.text_dataset_from_directory(\n",
        "    'aclImdb/test',\n",
        "    batch_size=BATCH_SIZE)"
      ]
    },
    {
      "cell_type": "markdown",
      "metadata": {
        "id": "8eMLH1QsuyoB"
      },
      "source": [
        "### Data Preprocessing"
      ]
    },
    {
      "cell_type": "markdown",
      "metadata": {
        "id": "mLCgImOZuyoB"
      },
      "source": [
        "Standardize, Tokenize, and Vectorize the dataset <br>\n",
        "- Standardization refers to preprocessing the text\n",
        "- Tokenization refers to splitting strings into tokens\n",
        "- Vectorization refers to converting tokens into numbers"
      ]
    },
    {
      "cell_type": "code",
      "execution_count": 10,
      "metadata": {
        "id": "P6qi5bIWuyoB"
      },
      "outputs": [],
      "source": [
        "#  custom standardization function to remove the HTML tags\n",
        "def custom_standardization(input_data):\n",
        "  lowercase = tf.strings.lower(input_data)\n",
        "  stripped_html = tf.strings.regex_replace(lowercase, '<br />', ' ')\n",
        "  return tf.strings.regex_replace(stripped_html,\n",
        "                                  '[%s]' % re.escape(string.punctuation),\n",
        "                                  '')"
      ]
    },
    {
      "cell_type": "markdown",
      "metadata": {
        "id": "M8dNv5MWuyoC"
      },
      "source": [
        "#### Vectorization Layer"
      ]
    },
    {
      "cell_type": "code",
      "execution_count": 11,
      "metadata": {
        "id": "sQhpPSiGuyoC"
      },
      "outputs": [],
      "source": [
        "vectorize_layer = layers.TextVectorization(\n",
        "    standardize=custom_standardization,\n",
        "    max_tokens=MAX_FEATURES,\n",
        "    output_mode='int',\n",
        "    output_sequence_length=SEQUENCE_LENGTH)"
      ]
    },
    {
      "cell_type": "code",
      "execution_count": 12,
      "metadata": {
        "id": "U5TvX9skuyoC"
      },
      "outputs": [],
      "source": [
        "# Make a text-only dataset (without labels)\n",
        "train_text = raw_train_ds.map(lambda x, y: x)\n",
        "\n",
        "# Call adapt to fit the state of the preprocessing layer to the dataset.\n",
        "# This will cause the model to build an index of strings to integers.\n",
        "vectorize_layer.adapt(train_text)"
      ]
    },
    {
      "cell_type": "code",
      "execution_count": 13,
      "metadata": {
        "id": "Dw_nWM8RuyoC"
      },
      "outputs": [],
      "source": [
        "def vectorize_text(text, label):\n",
        "  text = tf.expand_dims(text, -1)\n",
        "  return vectorize_layer(text), label"
      ]
    },
    {
      "cell_type": "code",
      "execution_count": 14,
      "metadata": {
        "colab": {
          "base_uri": "https://localhost:8080/"
        },
        "id": "MJ1KfyN6uyoC",
        "outputId": "cda74226-d8bb-45a2-a91d-a8ecc5d9212f"
      },
      "outputs": [
        {
          "name": "stdout",
          "output_type": "stream",
          "text": [
            "Review tf.Tensor(b'This early role for Barbara Shelley(in fact,her first in Britain after working in Italy),was made when she was 24 years old,and it\\'s certainly safe to say that she made a stunning debut in 1957\\'s \"Cat Girl.\" While blondes and brunettes get most of the attention(I\\'ll always cherish Yutte Stensgaard),the lovely auburn-haired actress with the deep voice always exuded intelligence as well as vulnerability(one such example being 1960\\'s \"Village of the Damned,\" in which her screen time was much less than her character\\'s husband,George Sanders).She is the sole reason for seeing this drab update of \"Cat People,\" and is seen to great advantage throughout(it\\'s difficult to say if her beauty found an even better showcase).Her character apparently sleeps in the nude,and we are exposed to her luscious bare back when she is awakened(also exposed 8 years later in 1965\\'s \"Rasputin-The Mad Monk\").The ravishing gown she wears during most of the film is a stunning strapless wonder(I don\\'t see what held that dress up,but I\\'d sure like to).All in all,proof positive that Barbara Shelley,in a poorly written role that would defeat most actresses,rises above her material and makes the film consistently watchable,a real test of star power,which she would find soon enough at Hammer\\'s studios in Bray,for the duration of the 1960\\'s.', shape=(), dtype=string)\n",
            "Label neg\n",
            "Vectorized review (<tf.Tensor: shape=(1, 400), dtype=int64, numpy=\n",
            "array([[  10,  395,  209,   15, 2194,    1,    1,   85,    8, 3374,  100,\n",
            "         782,    8,    1,   90,   50,   53,   13, 3400,  148,    1,   29,\n",
            "         416, 2285,    6,  130,   12,   53,   90,    4, 1271, 1971,    8,\n",
            "           1, 1099,  247,  132,    1,    3,    1,   75,   88,    5,    2,\n",
            "           1,  205,    1,    1,    1, 1318,    1,  512,   16,    2,  939,\n",
            "         572,  205,    1, 1537,   14,   73,   14,    1,  136,  459,  108,\n",
            "        3014, 2115,    5,    2, 6454,    8,   60,   39,  288,   58,   13,\n",
            "          72,  326,   70,   39,  101,    1,    1,    7,    2, 3699,  276,\n",
            "          15,  305,   10, 6878, 6578,    5, 1099,   76,    3,    7,  107,\n",
            "           6,   83, 2958,    1,  870,    6,  130,   44,   39,  900,  248,\n",
            "          33,   54,  122,    1,  106,  650, 6406,    8,    2,    1,   71,\n",
            "          24, 4337,    6,   39,    1, 4131,  141,   50,   53,    7,    1,\n",
            "        4337, 1137,  148,  297,    8,    1,    1, 1173,    1, 7913,    1,\n",
            "          53, 2656,  303,   88,    5,    2,   19,    7,    4, 1271,    1,\n",
            "           1,   89,   66,   48, 1617,   12, 3010,    1,  447,  242,   38,\n",
            "           1,    8,    1, 1106,   12, 2194,    1,    4,  856,  425,  209,\n",
            "          12,   59, 3856,   88,    1,  753,   39,  789,    3,  156,    2,\n",
            "          19, 3927,    1,  145, 2066,    5,  329,    1,   53,   59,  161,\n",
            "         506,  189,   31,    1, 2414,    8,    1,    2, 6052,    5,    2,\n",
            "        3014,    0,    0,    0,    0,    0,    0,    0,    0,    0,    0,\n",
            "           0,    0,    0,    0,    0,    0,    0,    0,    0,    0,    0,\n",
            "           0,    0,    0,    0,    0,    0,    0,    0,    0,    0,    0,\n",
            "           0,    0,    0,    0,    0,    0,    0,    0,    0,    0,    0,\n",
            "           0,    0,    0,    0,    0,    0,    0,    0,    0,    0,    0,\n",
            "           0,    0,    0,    0,    0,    0,    0,    0,    0,    0,    0,\n",
            "           0,    0,    0,    0,    0,    0,    0,    0,    0,    0,    0,\n",
            "           0,    0,    0,    0,    0,    0,    0,    0,    0,    0,    0,\n",
            "           0,    0,    0,    0,    0,    0,    0,    0,    0,    0,    0,\n",
            "           0,    0,    0,    0,    0,    0,    0,    0,    0,    0,    0,\n",
            "           0,    0,    0,    0,    0,    0,    0,    0,    0,    0,    0,\n",
            "           0,    0,    0,    0,    0,    0,    0,    0,    0,    0,    0,\n",
            "           0,    0,    0,    0,    0,    0,    0,    0,    0,    0,    0,\n",
            "           0,    0,    0,    0,    0,    0,    0,    0,    0,    0,    0,\n",
            "           0,    0,    0,    0,    0,    0,    0,    0,    0,    0,    0,\n",
            "           0,    0,    0,    0,    0,    0,    0,    0,    0,    0,    0,\n",
            "           0,    0,    0,    0,    0,    0,    0,    0,    0,    0,    0,\n",
            "           0,    0,    0,    0]])>, <tf.Tensor: shape=(), dtype=int32, numpy=0>)\n"
          ]
        }
      ],
      "source": [
        "# retrieve a batch (of first review and label) from the dataset\n",
        "text_batch, label_batch = next(iter(raw_train_ds))\n",
        "first_review, first_label = text_batch[0], label_batch[0]\n",
        "print(\"Review\", first_review)\n",
        "print(\"Label\", raw_train_ds.class_names[first_label])\n",
        "print(\"Vectorized review\", vectorize_text(first_review, first_label))"
      ]
    },
    {
      "cell_type": "code",
      "execution_count": 15,
      "metadata": {
        "colab": {
          "base_uri": "https://localhost:8080/"
        },
        "id": "Ufpgd1EwuyoC",
        "outputId": "f04f31ef-016e-43a1-bee3-3117100bcdd9"
      },
      "outputs": [
        {
          "name": "stdout",
          "output_type": "stream",
          "text": [
            "2418 --->  mere\n",
            " 222 --->  done\n",
            " 51 --->  more\n",
            "Vocabulary size: 10000\n"
          ]
        }
      ],
      "source": [
        "# See examples of Vectors and their corresponding vocabulary word values\n",
        "print(\"2418 ---> \",vectorize_layer.get_vocabulary()[2418])\n",
        "print(\" 222 ---> \",vectorize_layer.get_vocabulary()[222])\n",
        "print(\" 51 ---> \",vectorize_layer.get_vocabulary()[51])\n",
        "\n",
        "print('Vocabulary size: {}'.format(len(vectorize_layer.get_vocabulary())))"
      ]
    },
    {
      "cell_type": "code",
      "execution_count": 16,
      "metadata": {
        "id": "wU-8ECDeuyoC"
      },
      "outputs": [],
      "source": [
        "# Vectorize the Train, Validation and Test datasets\n",
        "train_ds = raw_train_ds.map(vectorize_text)\n",
        "val_ds = raw_val_ds.map(vectorize_text)\n",
        "test_ds = raw_test_ds.map(vectorize_text)"
      ]
    },
    {
      "cell_type": "markdown",
      "metadata": {
        "id": "7pigaMLjuyoC"
      },
      "source": [
        "#### Configure the dataset for performance\n",
        "`.cache()` keeps data in memory after it's loaded off disk.\n",
        "`.prefetch()` overlaps data preprocessing and model execution while training."
      ]
    },
    {
      "cell_type": "code",
      "execution_count": 17,
      "metadata": {
        "id": "6F9Bub1ZuyoC"
      },
      "outputs": [],
      "source": [
        "AUTOTUNE = tf.data.AUTOTUNE\n",
        "\n",
        "train_ds = train_ds.cache().prefetch(buffer_size=AUTOTUNE)\n",
        "val_ds = val_ds.cache().prefetch(buffer_size=AUTOTUNE)\n",
        "test_ds = test_ds.cache().prefetch(buffer_size=AUTOTUNE)"
      ]
    },
    {
      "cell_type": "markdown",
      "metadata": {
        "id": "JTeEDkpXuyoC"
      },
      "source": [
        "#### Create the ML Model"
      ]
    },
    {
      "cell_type": "markdown",
      "metadata": {
        "id": "Nlg_lArduyoC"
      },
      "source": [
        "Description: <br>\n",
        "1. `Embedding layer` - takes the integer-encoded reviews and looks up an embedding vector for each word-index. The resulting dimensions are: `(batch, sequence, embedding)`. <br> More: [Word embeddings](https://www.tensorflow.org/text/guide/word_embeddings)\n",
        "2. `GlobalAveragePooling1D` layer returns a fixed-length output vector for each example (Variable length) by averaging over the sequence dimension.\n",
        "3. Densely connected with a single output node"
      ]
    },
    {
      "cell_type": "code",
      "execution_count": 24,
      "metadata": {
        "colab": {
          "base_uri": "https://localhost:8080/"
        },
        "id": "-I3v7BZ-uyoC",
        "outputId": "f8ac331b-027d-453b-c12c-74056875f51a"
      },
      "outputs": [
        {
          "name": "stdout",
          "output_type": "stream",
          "text": [
            "Model: \"sequential_2\"\n",
            "_________________________________________________________________\n",
            " Layer (type)                Output Shape              Param #   \n",
            "=================================================================\n",
            " embedding_4 (Embedding)     (None, None, 128)         1280000   \n",
            "                                                                 \n",
            " bidirectional_6 (Bidirecti  (None, None, 256)         263168    \n",
            " onal)                                                           \n",
            "                                                                 \n",
            " bidirectional_7 (Bidirecti  (None, 128)               164352    \n",
            " onal)                                                           \n",
            "                                                                 \n",
            " dense_4 (Dense)             (None, 512)               66048     \n",
            "                                                                 \n",
            " dropout_2 (Dropout)         (None, 512)               0         \n",
            "                                                                 \n",
            " dense_5 (Dense)             (None, 64)                32832     \n",
            "                                                                 \n",
            " dropout_3 (Dropout)         (None, 64)                0         \n",
            "                                                                 \n",
            " dense_6 (Dense)             (None, 1)                 65        \n",
            "                                                                 \n",
            "=================================================================\n",
            "Total params: 1806465 (6.89 MB)\n",
            "Trainable params: 1806465 (6.89 MB)\n",
            "Non-trainable params: 0 (0.00 Byte)\n",
            "_________________________________________________________________\n"
          ]
        }
      ],
      "source": [
        "model = tf.keras.Sequential([\n",
        "  layers.Embedding(MAX_FEATURES, EMBEDDING_DIMENSION),\n",
        "  # layers.Dropout(0.3),\n",
        "  # layers.Dense(1024, activation='relu'),\n",
        "  layers.Bidirectional(layers.LSTM(EMBEDDING_DIMENSION,return_sequences=True, dropout=0.3)),\n",
        "  # layers.Dropout(0.3),\n",
        "  # layers.Dense(512, activation='relu'),\n",
        "  layers.Bidirectional(layers.LSTM(int(EMBEDDING_DIMENSION/2), dropout=0.3)),\n",
        "  # layers.Dropout(0.3),\n",
        "  layers.Dense(512, activation='relu'),\n",
        "  layers.Dropout(0.3),\n",
        "  layers.Dense(64, activation='relu'),\n",
        "  # layers.GlobalAveragePooling1D(),\n",
        "  layers.Dropout(0.3),\n",
        "  layers.Dense(1, activation='sigmoid')])\n",
        "\n",
        "model.summary()"
      ]
    },
    {
      "cell_type": "code",
      "execution_count": 25,
      "metadata": {
        "id": "oMdrmxj8uyoC"
      },
      "outputs": [],
      "source": [
        "optimizer = tf.keras.optimizers.Adam(0.001)\n",
        "loss = losses.BinaryCrossentropy()\n",
        "metric = tf.metrics.BinaryAccuracy(threshold=0.5)\n",
        "\n",
        "model.compile(loss=loss,\n",
        "              optimizer=optimizer,\n",
        "              metrics=[metric]\n",
        "              )"
      ]
    },
    {
      "cell_type": "markdown",
      "metadata": {
        "id": "k7iDyKgTuyoD"
      },
      "source": [
        "### Train the Model"
      ]
    },
    {
      "cell_type": "code",
      "execution_count": 26,
      "metadata": {
        "colab": {
          "base_uri": "https://localhost:8080/"
        },
        "id": "P7iXDYBQuyoD",
        "outputId": "d466cb30-afb2-486b-8951-dbc42dbde555"
      },
      "outputs": [
        {
          "name": "stdout",
          "output_type": "stream",
          "text": [
            "Epoch 1/100\n",
            "313/313 [==============================] - 267s 833ms/step - loss: 0.5285 - binary_accuracy: 0.7307 - val_loss: 0.5778 - val_binary_accuracy: 0.6842\n",
            "Epoch 2/100\n",
            "313/313 [==============================] - 259s 829ms/step - loss: 0.3786 - binary_accuracy: 0.8460 - val_loss: 0.4493 - val_binary_accuracy: 0.8248\n",
            "Epoch 3/100\n",
            "313/313 [==============================] - 257s 821ms/step - loss: 0.2990 - binary_accuracy: 0.8865 - val_loss: 0.4014 - val_binary_accuracy: 0.8404\n",
            "Epoch 4/100\n",
            "313/313 [==============================] - 258s 824ms/step - loss: 0.2441 - binary_accuracy: 0.9101 - val_loss: 0.4076 - val_binary_accuracy: 0.8528\n",
            "Epoch 5/100\n",
            "313/313 [==============================] - 257s 822ms/step - loss: 0.1882 - binary_accuracy: 0.9370 - val_loss: 0.5027 - val_binary_accuracy: 0.8284\n",
            "Epoch 6/100\n",
            "313/313 [==============================] - 258s 824ms/step - loss: 0.1743 - binary_accuracy: 0.9380 - val_loss: 0.6040 - val_binary_accuracy: 0.8242\n",
            "Epoch 7/100\n",
            "313/313 [==============================] - 258s 824ms/step - loss: 0.1462 - binary_accuracy: 0.9503 - val_loss: 0.5235 - val_binary_accuracy: 0.8472\n",
            "Epoch 8/100\n",
            "313/313 [==============================] - 257s 822ms/step - loss: 0.1358 - binary_accuracy: 0.9557 - val_loss: 0.5603 - val_binary_accuracy: 0.8410\n",
            "Epoch 9/100\n",
            "313/313 [==============================] - 259s 826ms/step - loss: 0.1251 - binary_accuracy: 0.9595 - val_loss: 0.6317 - val_binary_accuracy: 0.8010\n",
            "Epoch 10/100\n",
            "313/313 [==============================] - 258s 823ms/step - loss: 0.1106 - binary_accuracy: 0.9639 - val_loss: 0.6072 - val_binary_accuracy: 0.7934\n"
          ]
        }
      ],
      "source": [
        "callback = tf.keras.callbacks.EarlyStopping(monitor='val_loss', patience=7)\n",
        "\n",
        "history = model.fit(\n",
        "    train_ds,\n",
        "    validation_data=val_ds,\n",
        "    epochs=EPOCH,\n",
        "    callbacks = [callback]\n",
        "    )"
      ]
    },
    {
      "cell_type": "markdown",
      "metadata": {
        "id": "5u5gPxs6uyoD"
      },
      "source": [
        "### Evaluate the Model"
      ]
    },
    {
      "cell_type": "code",
      "execution_count": null,
      "metadata": {
        "colab": {
          "background_save": true
        },
        "id": "xwfotKhxuyoD",
        "outputId": "d705f9e1-6170-44a2-8bcb-e1e0fb399a2d"
      },
      "outputs": [
        {
          "name": "stdout",
          "output_type": "stream",
          "text": [
            "391/391 [==============================] - 77s 197ms/step - loss: 0.4766 - binary_accuracy: 0.8102\n",
            "Loss:  0.47664809226989746\n",
            "Accuracy:  0.8102399706840515\n"
          ]
        }
      ],
      "source": [
        "loss, accuracy = model.evaluate(test_ds)\n",
        "\n",
        "print(\"Loss: \", loss)\n",
        "print(\"Accuracy: \", accuracy)"
      ]
    },
    {
      "cell_type": "markdown",
      "metadata": {
        "id": "em-iWmqYuyoD"
      },
      "source": [
        "### Create plots of Accuracy and Loss"
      ]
    },
    {
      "cell_type": "code",
      "execution_count": null,
      "metadata": {
        "colab": {
          "background_save": true
        },
        "id": "aUXJW8fbuyoD"
      },
      "outputs": [],
      "source": [
        "history_dict = history.history\n",
        "history_dict.keys()\n",
        "\n",
        "acc = history_dict['binary_accuracy']\n",
        "val_acc = history_dict['val_binary_accuracy']\n",
        "loss = history_dict['loss']\n",
        "val_loss = history_dict['val_loss']\n",
        "\n",
        "epochs = range(1, len(acc) + 1)"
      ]
    },
    {
      "cell_type": "code",
      "execution_count": null,
      "metadata": {
        "colab": {
          "background_save": true
        },
        "id": "xq-WQIIEuyoD",
        "outputId": "b7607cfa-c3df-4f89-d0ce-a404de25b1ec"
      },
      "outputs": [
        {
          "data": {
            "image/png": "[encoded data removed]",
            "text/plain": [
              "<Figure size 640x480 with 1 Axes>"
            ]
          },
          "metadata": {},
          "output_type": "display_data"
        }
      ],
      "source": [
        "plt.plot(epochs, loss, 'b', label='Training loss')\n",
        "plt.plot(epochs, val_loss, 'r', label='Validation loss')\n",
        "plt.title('Training and validation loss')\n",
        "plt.xlabel('Epochs')\n",
        "plt.ylabel('Loss')\n",
        "plt.legend()\n",
        "\n",
        "plt.show()"
      ]
    },
    {
      "cell_type": "code",
      "execution_count": null,
      "metadata": {
        "colab": {
          "background_save": true
        },
        "id": "w6d7PywJuyoD",
        "outputId": "d3925d4a-f4db-4dfa-b383-6320ad767a3c"
      },
      "outputs": [
        {
          "data": {
            "image/png": "[encoded data removed]",
            "text/plain": [
              "<Figure size 640x480 with 1 Axes>"
            ]
          },
          "metadata": {},
          "output_type": "display_data"
        }
      ],
      "source": [
        "plt.plot(epochs, acc, 'b', label='Training acc')\n",
        "plt.plot(epochs, val_acc, 'r', label='Validation acc')\n",
        "plt.title('Training and validation accuracy')\n",
        "plt.xlabel('Epochs')\n",
        "plt.ylabel('Accuracy')\n",
        "plt.legend(loc='lower right')\n",
        "\n",
        "plt.show()"
      ]
    }
  ],
  "metadata": {
    "accelerator": "TPU",
    "colab": {
      "gpuType": "V28",
      "provenance": []
    },
    "interpreter": {
      "hash": "99bbf6455d2af6b64fd28ed24587ae5b5157a519c1a33b67696805fe5b7257c2"
    },
    "kernelspec": {
      "display_name": "Python 3",
      "name": "python3"
    },
    "language_info": {
      "codemirror_mode": {
        "name": "ipython",
        "version": 3
      },
      "file_extension": ".py",
      "mimetype": "text/x-python",
      "name": "python",
      "nbconvert_exporter": "python",
      "pygments_lexer": "ipython3",
      "version": "3.9.19"
    }
  },
  "nbformat": 4,
  "nbformat_minor": 0
}
